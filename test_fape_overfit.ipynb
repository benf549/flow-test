{
 "cells": [
  {
   "cell_type": "code",
   "execution_count": 2,
   "metadata": {},
   "outputs": [
    {
     "name": "stderr",
     "output_type": "stream",
     "text": [
      "/Users/benjaminfry/.pyenv/versions/pyrosetta/envs/torch/lib/python3.10/site-packages/tqdm/auto.py:21: TqdmWarning: IProgress not found. Please update jupyter and ipywidgets. See https://ipywidgets.readthedocs.io/en/stable/user_install.html\n",
      "  from .autonotebook import tqdm as notebook_tqdm\n"
     ]
    },
    {
     "name": "stdout",
     "output_type": "stream",
     "text": [
      "/Users/benjaminfry/flow_model\n"
     ]
    }
   ],
   "source": [
    "import shelve\n",
    "from pathlib import Path\n",
    "from typing import *\n",
    "\n",
    "import torch\n",
    "\n",
    "from utils.dataset import UnclusteredProteinChainDataset, idealize_backbone_coords\n",
    "from utils.model import FlowModel, FlowModelModuleConfig\n",
    "import utils.rigid_utils as ur \n",
    "import utils.utility_functions as uf\n",
    "\n",
    "file_path = Path('.').resolve()\n",
    "print(file_path)\n",
    "\n",
    "def compute_fape(\n",
    "    pred_frames: ur.Rigid,\n",
    "    target_frames: ur.Rigid,\n",
    "    frames_mask: torch.Tensor,\n",
    "    pred_positions: torch.Tensor,\n",
    "    target_positions: torch.Tensor,\n",
    "    positions_mask: torch.Tensor,\n",
    "    length_scale: float,\n",
    "    l1_clamp_distance: Optional[float] = None,\n",
    "    eps=1e-8, ignore_nan=True,\n",
    ") -> torch.Tensor:\n",
    "    \"\"\"\n",
    "        Computes FAPE loss.\n",
    "\n",
    "        Args:\n",
    "            pred_frames:\n",
    "                [*, N_frames] Rigid object of predicted frames\n",
    "            target_frames:\n",
    "                [*, N_frames] Rigid object of ground truth frames\n",
    "            frames_mask:\n",
    "                [*, N_frames] binary mask for the frames\n",
    "            pred_positions:\n",
    "                [*, N_pts, 3] predicted atom positions\n",
    "            target_positions:\n",
    "                [*, N_pts, 3] ground truth positions\n",
    "            positions_mask:\n",
    "                [*, N_pts] positions mask\n",
    "            length_scale:\n",
    "                Length scale by which the loss is divided\n",
    "            l1_clamp_distance:\n",
    "                Cutoff above which distance errors are disregarded\n",
    "            eps:\n",
    "                Small value used to regularize denominators\n",
    "        Returns:\n",
    "            [*] loss tensor\n",
    "    \"\"\"\n",
    "    # [*, N_frames, N_pts, 3]\n",
    "    local_pred_pos = pred_frames.invert()[..., None].apply(\n",
    "        pred_positions[..., None, :, :],\n",
    "    )\n",
    "    local_target_pos = target_frames.invert()[..., None].apply(\n",
    "        target_positions[..., None, :, :],\n",
    "    )\n",
    "\n",
    "    error_dist = torch.sqrt(\n",
    "        torch.sum((local_pred_pos - local_target_pos) ** 2, dim=-1) + eps\n",
    "    )\n",
    "\n",
    "    if l1_clamp_distance is not None:\n",
    "        error_dist = torch.clamp(error_dist, min=0, max=l1_clamp_distance)\n",
    "\n",
    "    normed_error = error_dist / length_scale\n",
    "    normed_error = normed_error * frames_mask[..., None]\n",
    "    normed_error = normed_error * positions_mask[..., None, :]\n",
    "    if ignore_nan:\n",
    "        normed_error = torch.nan_to_num(normed_error)\n",
    "\n",
    "    # FP16-friendly averaging. Roughly equivalent to:\n",
    "    #\n",
    "    # norm_factor = (\n",
    "    #     torch.sum(frames_mask, dim=-1) *\n",
    "    #     torch.sum(positions_mask, dim=-1)\n",
    "    # )\n",
    "    # normed_error = torch.sum(normed_error, dim=(-1, -2)) / (eps + norm_factor)\n",
    "    #\n",
    "    # (\"roughly\" because eps is necessarily duplicated in the latter)\n",
    "    normed_error = torch.sum(normed_error, dim=-1)\n",
    "    normed_error = (\n",
    "        normed_error / (eps + torch.sum(frames_mask, dim=-1))[..., None]\n",
    "    )\n",
    "    normed_error = torch.sum(normed_error, dim=-1)\n",
    "    normed_error = normed_error / (eps + torch.sum(positions_mask, dim=-1))\n",
    "    return normed_error\n",
    "\n",
    "\n",
    "def get_dummy_data(dataset):\n",
    "    able_chain_A, _ = dataset[dataset.chain_key_to_index['6w70_1-A-A']]\n",
    "    bb_coords = able_chain_A[('A', 'A')]['backbone_coords']\n",
    "    phi_psi_angles = able_chain_A[('A', 'A')]['phi_psi_angles']\n",
    "\n",
    "    ideal_bb_coords = idealize_backbone_coords(bb_coords, phi_psi_angles)\n",
    "    # TODO: center on ligand.\n",
    "    ca_com = uf.compute_center_of_mass(ideal_bb_coords[:, 1])\n",
    "    centered_ideal_bb_coords = uf.center_coords(ideal_bb_coords, ca_com)\n",
    "    frames = uf.compute_residue_frames(centered_ideal_bb_coords)\n",
    "\n",
    "    return frames, centered_ideal_bb_coords, ca_com"
   ]
  },
  {
   "cell_type": "code",
   "execution_count": 25,
   "metadata": {},
   "outputs": [],
   "source": [
    "params = {\n",
    "    'dataset_shelve_path': file_path / 'dataset' / 'dataset_shelve',\n",
    "    'metadata_shelve_path': file_path / 'dataset' / 'metadata_shelve',\n",
    "}\n",
    "\n",
    "FLOW_MODEL_CONFIG = FlowModelModuleConfig(\n",
    "    single_repr_node_embedding_dim = 128,\n",
    "    pair_repr_node_embedding_dim = 64,\n",
    "    node_positional_embedding_dim = 128,\n",
    "    node_timestep_embedding_dim = 32,\n",
    "    edge_repr_embedding_dim = 128,\n",
    "    edge_num_distrogram_bins = 48,\n",
    "    edge_embed_diffuse_mask = False,\n",
    "    ipa_hidden_dim = 256,\n",
    "    ipa_no_heads = 1,\n",
    "    ipa_no_qk_points = 16,\n",
    "    ipa_no_v_points = 16,\n",
    "    num_trunk_blocks = 18,\n",
    "    trunk_transformer_atten_heads = 1,\n",
    "    trunk_transformer_num_layers = 3,\n",
    "    dropout=0.1\n",
    ")\n",
    "\n",
    "dataset = UnclusteredProteinChainDataset(params['dataset_shelve_path'], params['metadata_shelve_path'])\n",
    "target_frames, target_bb_coords, target_ca_com = get_dummy_data(dataset)\n",
    "batch_size, num_residues = map(int, [1, target_bb_coords.shape[0]])\n"
   ]
  },
  {
   "cell_type": "code",
   "execution_count": 26,
   "metadata": {},
   "outputs": [],
   "source": [
    "# Create dynamically refreshing matplotlib line plot for loss\n",
    "import matplotlib.pyplot as plt\n",
    "import numpy as np\n",
    "import IPython.display as display\n",
    "\n",
    "def plot_loss(losses):\n",
    "    plt.plot(losses)\n",
    "    plt.xlabel('Iteration')\n",
    "    plt.ylabel('Loss')\n",
    "    plt.title('FAPE Loss')\n",
    "    plt.show()\n",
    "    display.clear_output(wait=True)"
   ]
  },
  {
   "cell_type": "code",
   "execution_count": 27,
   "metadata": {},
   "outputs": [
    {
     "data": {
      "image/png": "[encoded data removed]",
      "text/plain": [
       "<Figure size 640x480 with 1 Axes>"
      ]
     },
     "metadata": {},
     "output_type": "display_data"
    }
   ],
   "source": [
    "flow_model = FlowModel(FLOW_MODEL_CONFIG)\n",
    "optimizer = torch.optim.Adam(flow_model.parameters(), lr=1e-4)\n",
    "\n",
    "# TODO: create an SE(3) transformer that can be used to overfit on the able fold.\n",
    "r = ur.Rigid.identity(shape=(batch_size, num_residues)) # type: ignore\n",
    "node_mask = torch.ones(batch_size, num_residues, dtype=torch.float)\n",
    "diffuse_mask = node_mask.clone()\n",
    "\n",
    "losses = []\n",
    "for epoch in range(1000):\n",
    "    optimizer.zero_grad()\n",
    "\n",
    "    pred_trans, pred_rotmat = flow_model(r, node_mask, diffuse_mask).values()\n",
    "    loss = compute_fape(\n",
    "        pred_frames = ur.Rigid(ur.Rotation(rot_mats=pred_rotmat), pred_trans),\n",
    "        target_frames=ur.Rigid(ur.Rotation(rot_mats=target_frames[None, ...]), target_bb_coords[:, 1][None, ...]),\n",
    "        frames_mask=node_mask,\n",
    "        pred_positions=pred_trans,\n",
    "        target_positions=target_bb_coords[:, 1][None, ...],\n",
    "        positions_mask=node_mask,\n",
    "        length_scale=1.0,\n",
    "    )\n",
    "    loss.backward()\n",
    "    optimizer.step()\n",
    "\n",
    "    losses.append(loss.item())\n",
    "    plot_loss(losses)"
   ]
  },
  {
   "cell_type": "code",
   "execution_count": 28,
   "metadata": {},
   "outputs": [],
   "source": [
    "pred_trans, pred_rotmat = flow_model(r, node_mask, diffuse_mask).values()"
   ]
  },
  {
   "cell_type": "code",
   "execution_count": 29,
   "metadata": {},
   "outputs": [
    {
     "data": {
      "application/vnd.plotly.v1+json": {
       "config": {
        "plotlyServerURL": "https://plot.ly"
       },
       "data": [
        {
         "hovertemplate": "x=%{x}<br>y=%{y}<br>z=%{z}<extra></extra>",
         "legendgroup": "",
         "marker": {
          "color": "blue",
          "size": 5,
          "symbol": "circle"
         },
         "mode": "markers",
         "name": "",
         "scene": "scene",
         "showlegend": false,
         "type": "scatter3d",
         "x": [
          15.423772811889648,
          13.789804458618164,
          15.544167518615723,
          14.049688339233398,
          10.730534553527832,
          11.632966995239258,
          13.277077674865723,
          9.900793075561523,
          7.787064552307129,
          9.835545539855957,
          8.774444580078125,
          6.151743412017822,
          5.295670032501221,
          8.53236198425293,
          5.021409034729004,
          1.7222316265106201,
          4.007136344909668,
          5.030664443969727,
          1.5543839931488037,
          -0.8051335215568542,
          1.9342334270477295,
          0.5564839839935303,
          -2.78808331489563,
          -2.5650086402893066,
          -0.1396099030971527,
          -5.053894996643066,
          -6.952203750610352,
          -5.234551906585693,
          -5.586930274963379,
          -9.814950942993164,
          -9.026121139526367,
          -10.913372993469238,
          -10.943490028381348,
          -7.23546028137207,
          -7.754221439361572,
          -11.116594314575195,
          -7.565381050109863,
          -5.746707439422607,
          -7.035260200500488,
          -8.721348762512207,
          -4.577671527862549,
          -4.768344402313232,
          -6.902542591094971,
          -4.623611927032471,
          -1.137947916984558,
          -2.6570358276367188,
          -4.427562713623047,
          -1.6741642951965332,
          1.394870400428772,
          -0.7814819812774658,
          -0.9038475155830383,
          4.100734710693359,
          3.805521011352539,
          0.6710705757141113,
          4.5027666091918945,
          6.88930082321167,
          5.402585029602051,
          5.570373058319092,
          8.842489242553711,
          9.184853553771973,
          8.938495635986328,
          9.206987380981445,
          13.039098739624023,
          12.450982093811035,
          12.050009727478027,
          10.640107154846191,
          12.531085968017578,
          10.523619651794434,
          8.546826362609863,
          8.214625358581543,
          7.332644939422607,
          5.81984806060791,
          3.899129629135132,
          4.407397270202637,
          3.692791700363159,
          1.7496044635772705,
          -0.5537958145141602,
          0.18960119783878326,
          -0.7865197658538818,
          -4.492145538330078,
          -4.419782638549805,
          -4.356943130493164,
          -6.378976821899414,
          -10.236757278442383,
          -8.186908721923828,
          -7.918903350830078,
          -12.603811264038086,
          -13.164563179016113,
          -11.381997108459473,
          -12.646041870117188,
          -16.49320411682129,
          -15.039188385009766,
          -14.414767265319824,
          -17.407812118530273,
          -20.51941680908203,
          -19.69151496887207,
          -17.58466911315918,
          -13.935598373413086,
          -14.605640411376953,
          -14.089714050292969,
          -11.460298538208008,
          -8.469269752502441,
          -10.463325500488281,
          -8.370601654052734,
          -4.833293914794922,
          -4.648540496826172,
          -5.561883926391602,
          -2.617441415786743,
          -0.42831841111183167,
          0.655102014541626,
          -0.07250957190990448,
          1.7382230758666992,
          4.715750694274902,
          3.307248592376709,
          5.185441970825195,
          7.23560094833374,
          8.958300590515137,
          9.200370788574219,
          10.62317943572998,
          14.050268173217773,
          10.942644119262695,
          11.716985702514648,
          14.606210708618164,
          17.35643196105957,
          15.967198371887207,
          17.133182525634766
         ],
         "y": [
          16.788070678710938,
          15.043045043945312,
          12.987472534179688,
          14.447484970092773,
          13.823139190673828,
          11.153139114379883,
          10.111584663391113,
          11.74445915222168,
          9.255929946899414,
          6.510695457458496,
          6.663412094116211,
          5.981964588165283,
          4.6565704345703125,
          1.9272053241729736,
          1.6424602270126343,
          -0.5101953744888306,
          -1.2093238830566406,
          -3.8296053409576416,
          -2.3061137199401855,
          -5.135589122772217,
          -7.682146072387695,
          -7.772160530090332,
          -6.325414180755615,
          -10.157970428466797,
          -12.119466781616211,
          -10.864399909973145,
          -12.083806991577148,
          -15.463249206542969,
          -15.992483139038086,
          -14.598779678344727,
          -11.553974151611328,
          -10.02352237701416,
          -6.35528564453125,
          -6.3731279373168945,
          -8.387101173400879,
          -3.359504222869873,
          -0.004814425483345985,
          -1.8544883728027344,
          -2.918281078338623,
          1.594261884689331,
          2.0992414951324463,
          0.09471969306468964,
          3.3259365558624268,
          6.610128402709961,
          5.6324663162231445,
          5.023487091064453,
          8.846417427062988,
          10.869287490844727,
          7.788969039916992,
          9.884050369262695,
          12.59095287322998,
          14.60997486114502,
          10.893539428710938,
          13.126115798950195,
          16.488483428955078,
          14.376653671264648,
          13.1365385055542,
          17.081714630126953,
          18.81218719482422,
          12.549738883972168,
          16.38150978088379,
          19.858314514160156,
          17.66075325012207,
          16.93602752685547,
          12.40864372253418,
          11.442509651184082,
          8.34228515625,
          8.242046356201172,
          10.271242141723633,
          7.672253608703613,
          4.815413951873779,
          6.786235809326172,
          6.423921585083008,
          3.101099729537964,
          4.06268835067749,
          5.797984600067139,
          1.888319492340088,
          -1.2155992984771729,
          1.3754445314407349,
          2.5221645832061768,
          -1.08344304561615,
          -1.8708306550979614,
          1.120949149131775,
          -0.9900277256965637,
          -3.202634811401367,
          -2.0277180671691895,
          -1.176737666130066,
          -4.828208923339844,
          -5.516061782836914,
          -2.969609498977661,
          -4.5355072021484375,
          -8.088318824768066,
          -7.45681095123291,
          -5.591991424560547,
          -9.121895790100098,
          -10.46749210357666,
          -13.509115219116211,
          -14.206457138061523,
          -16.35160255432129,
          -13.549238204956055,
          -11.660423278808594,
          -14.524479866027832,
          -14.134818077087402,
          -10.305051803588867,
          -11.598237991333008,
          -13.499309539794922,
          -11.007461547851562,
          -7.5283331871032715,
          -10.217693328857422,
          -9.446880340576172,
          -6.147234916687012,
          -6.31003475189209,
          -7.4703688621521,
          -5.268074989318848,
          -2.2260823249816895,
          -3.981639862060547,
          -3.3089957237243652,
          0.22251054644584656,
          2.083920478820801,
          0.3829529881477356,
          -0.6687438488006592,
          4.650040149688721,
          5.527846336364746,
          3.2236244678497314,
          6.673542022705078,
          8.918824195861816
         ],
         "z": [
          -0.847707986831665,
          -2.969027042388916,
          -1.481755256652832,
          2.7490530014038086,
          1.4078444242477417,
          -0.02054799348115921,
          3.7164437770843506,
          4.6493425369262695,
          2.881974935531616,
          1.6907851696014404,
          6.774188041687012,
          6.40587043762207,
          3.949620246887207,
          5.496804714202881,
          9.136940956115723,
          7.038419246673584,
          6.264548301696777,
          10.038155555725098,
          11.285147666931152,
          8.697880744934082,
          8.211241722106934,
          13.311956405639648,
          11.108501434326172,
          9.735151290893555,
          12.710100173950195,
          15.162163734436035,
          12.487296104431152,
          12.02840805053711,
          16.376983642578125,
          16.463932037353516,
          18.292186737060547,
          17.152196884155273,
          19.119606018066406,
          17.34228515625,
          14.682008743286133,
          14.616764068603516,
          15.593204498291016,
          13.424478530883789,
          10.386351585388184,
          12.200087547302246,
          12.447966575622559,
          9.0967378616333,
          7.122797012329102,
          8.974193572998047,
          6.849913120269775,
          3.3358166217803955,
          3.683236598968506,
          4.1729536056518555,
          1.2935574054718018,
          -0.4946984350681305,
          0.20860449969768524,
          -0.12535923719406128,
          -2.827436685562134,
          -4.117136001586914,
          -3.206618070602417,
          -4.5236406326293945,
          -7.404236316680908,
          -9.356302261352539,
          -7.581676959991455,
          -10.33836555480957,
          -13.426338195800781,
          -12.400484085083008,
          -10.822164535522461,
          -14.547600746154785,
          -13.067020416259766,
          -16.304784774780273,
          -14.918193817138672,
          -11.18798828125,
          -12.775297164916992,
          -14.558313369750977,
          -10.073880195617676,
          -10.421228408813477,
          -11.84332275390625,
          -11.279839515686035,
          -7.324405670166016,
          -7.2441911697387695,
          -9.484301567077637,
          -6.976711750030518,
          -4.431015491485596,
          -4.583309650421143,
          -6.167468547821045,
          -3.524538993835449,
          0.3438502848148346,
          -2.797729730606079,
          -2.0856740474700928,
          1.7661662101745605,
          2.237964630126953,
          0.018580425530672073,
          4.463171482086182,
          4.7648091316223145,
          3.799297571182251,
          4.901078701019287,
          8.778972625732422,
          10.27707576751709,
          9.165510177612305,
          9.174362182617188,
          5.267512798309326,
          7.609427452087402,
          3.587705612182617,
          3.463918685913086,
          4.244737148284912,
          4.088094711303711,
          1.2155232429504395,
          2.2263078689575195,
          3.175959587097168,
          -0.41971534490585327,
          -1.9489459991455078,
          -0.040368009358644485,
          0.07777512073516846,
          -3.335749626159668,
          -3.4725656509399414,
          -0.8268686532974243,
          -2.8516433238983154,
          -5.5746073722839355,
          -3.227360725402832,
          -2.1646623611450195,
          -6.188006401062012,
          -6.428372383117676,
          -4.137784004211426,
          -3.6478378772735596,
          -7.982451438903809,
          -6.483615875244141,
          -4.2504353523254395,
          -7.13074254989624,
          -8.384305000305176,
          -6.582250118255615
         ]
        },
        {
         "marker": {
          "color": "red",
          "size": 5
         },
         "mode": "markers",
         "type": "scatter3d",
         "x": [
          0.9649477005004883,
          -1.4298486709594727,
          -0.9359683990478516,
          2.8830480575561523,
          2.7445068359375,
          0.15939044952392578,
          2.527838706970215,
          5.351472854614258,
          3.1402969360351562,
          1.8374652862548828,
          5.386631011962891,
          5.939910888671875,
          2.606961250305176,
          3.432805061340332,
          6.751325607299805,
          4.961984634399414,
          2.565793037414551,
          5.388801574707031,
          7.507097244262695,
          4.522747993469238,
          4.206127166748047,
          7.949817657470703,
          7.687162399291992,
          4.685787200927734,
          6.549293518066406,
          9.566246032714844,
          7.2565460205078125,
          5.705114364624023,
          9.23167610168457,
          10.456781387329102,
          13.044197082519531,
          12.612350463867188,
          15.724687576293945,
          14.156686782836914,
          10.751102447509766,
          12.40605354309082,
          14.228240966796875,
          11.090322494506836,
          8.94790267944336,
          11.44588851928711,
          11.328350067138672,
          7.507579803466797,
          7.557270050048828,
          9.712257385253906,
          7.612039566040039,
          4.384178161621094,
          5.887628555297852,
          6.997087478637695,
          3.6066761016845703,
          1.8146896362304688,
          4.0476226806640625,
          3.40496826171875,
          -0.35774993896484375,
          -0.8003139495849609,
          0.8528203964233398,
          -1.2887582778930664,
          -4.4354567527771,
          -3.8740034103393555,
          -3.150876998901367,
          -6.325979709625244,
          -8.291486740112305,
          -6.992912769317627,
          -7.802336692810059,
          -11.462459564208984,
          -11.22269344329834,
          -13.82719612121582,
          -14.074355125427246,
          -10.333366394042969,
          -10.259681701660156,
          -13.171178817749023,
          -11.42686939239502,
          -8.068143844604492,
          -9.768122673034668,
          -11.27287483215332,
          -7.856598854064941,
          -6.271906852722168,
          -8.868999481201172,
          -8.120233535766602,
          -4.346343994140625,
          -4.341928482055664,
          -6.4488677978515625,
          -3.7129063606262207,
          -0.9283761978149414,
          -2.390120506286621,
          -2.766267776489258,
          0.8248624801635742,
          2.1193971633911133,
          0.2813425064086914,
          1.6767168045043945,
          5.230047225952148,
          4.630904197692871,
          3.312506675720215,
          6.404092788696289,
          8.862232208251953,
          6.806325912475586,
          6.830766677856445,
          2.9997787475585938,
          2.6874542236328125,
          -1.1061840057373047,
          -1.6191444396972656,
          0.7974567413330078,
          -1.232400894165039,
          -4.513143062591553,
          -3.007929801940918,
          -1.7024621963500977,
          -5.214508056640625,
          -6.580964088439941,
          -3.8370962142944336,
          -4.663999080657959,
          -8.26386833190918,
          -7.139715671539307,
          -4.647972583770752,
          -7.428587913513184,
          -9.559028625488281,
          -6.589869976043701,
          -5.816224098205566,
          -9.303260803222656,
          -9.34532642364502,
          -5.953793525695801,
          -7.468377113342285,
          -10.473822593688965,
          -8.206817626953125,
          -6.334854602813721,
          -9.633131980895996,
          -10.689057350158691,
          -7.59523868560791
         ],
         "y": [
          -15.474922180175781,
          -13.808917999267578,
          -10.701497077941895,
          -10.694236755371094,
          -11.358808517456055,
          -8.543632507324219,
          -6.13212776184082,
          -7.029386043548584,
          -6.296714782714844,
          -3.111624240875244,
          -1.7028284072875977,
          -2.387312412261963,
          -0.6984052658081055,
          2.2689943313598633,
          2.690244674682617,
          2.571249008178711,
          5.355622291564941,
          7.568511962890625,
          7.005063056945801,
          7.912509918212891,
          11.26845932006836,
          11.98866081237793,
          10.99167251586914,
          13.30790901184082,
          16.25968360900879,
          15.581361770629883,
          15.652851104736328,
          18.96843147277832,
          20.387165069580078,
          19.239547729492188,
          16.736051559448242,
          14.006237030029297,
          12.162527084350586,
          11.752853393554688,
          10.870262145996094,
          8.065267562866211,
          6.654136657714844,
          6.688373565673828,
          5.090402603149414,
          2.22792911529541,
          1.9790544509887695,
          1.8207883834838867,
          -0.950291633605957,
          -3.121647834777832,
          -2.332700729370117,
          -3.2819571495056152,
          -6.644464492797852,
          -7.360166549682617,
          -6.3896026611328125,
          -8.695077896118164,
          -11.612390518188477,
          -10.955255508422852,
          -10.485755920410156,
          -13.783197402954102,
          -15.757314682006836,
          -14.029134750366211,
          -14.546058654785156,
          -18.31519317626953,
          -18.585758209228516,
          -16.6400089263916,
          -18.859939575195312,
          -22.079437255859375,
          -20.58946990966797,
          -20.108362197875977,
          -16.31871223449707,
          -15.545404434204102,
          -11.88565444946289,
          -11.291180610656738,
          -13.166752815246582,
          -11.101786613464355,
          -7.849573612213135,
          -9.030194282531738,
          -9.7974214553833,
          -6.300464630126953,
          -4.830368995666504,
          -6.8479461669921875,
          -5.475401878356934,
          -1.8466463088989258,
          -2.459625244140625,
          -4.097039699554443,
          -1.244241714477539,
          1.0903730392456055,
          -1.1125359535217285,
          -0.9703636169433594,
          2.8185014724731445,
          3.0244150161743164,
          1.1046085357666016,
          3.5043468475341797,
          6.456007957458496,
          5.108719825744629,
          4.999942779541016,
          8.591463088989258,
          9.683782577514648,
          8.203920364379883,
          9.707071304321289,
          13.20071792602539,
          13.239503860473633,
          15.430274963378906,
          15.966022491455078,
          12.20564079284668,
          11.840156555175781,
          14.39577865600586,
          12.596624374389648,
          9.266889572143555,
          10.879436492919922,
          11.967658996582031,
          8.484107971191406,
          6.880039215087891,
          9.162580490112305,
          7.904237747192383,
          4.248539924621582,
          4.724456787109375,
          6.05532169342041,
          2.990234375,
          0.7222671508789062,
          2.6292314529418945,
          2.0673599243164062,
          -1.5896129608154297,
          -2.069523811340332,
          -0.770512580871582,
          -3.082441806793213,
          -6.082970142364502,
          -5.464224338531494,
          -5.494657039642334,
          -8.768192291259766,
          -10.664947509765625
         ],
         "z": [
          16.283008575439453,
          13.91445541381836,
          16.07335090637207,
          15.842153549194336,
          12.070850372314453,
          11.765904426574707,
          13.556817054748535,
          11.160552978515625,
          8.144801139831543,
          9.810054779052734,
          10.082347869873047,
          6.327470779418945,
          5.480027198791504,
          7.7704620361328125,
          5.9547929763793945,
          2.5826237201690674,
          3.662034273147583,
          4.971255302429199,
          1.846924066543579,
          -0.3644077777862549,
          1.4450488090515137,
          0.9981129169464111,
          -2.6936497688293457,
          -3.209712028503418,
          -1.6188862323760986,
          -3.8689513206481934,
          -6.907602310180664,
          -5.848166465759277,
          -5.273741722106934,
          -8.73843765258789,
          -7.359488487243652,
          -9.908059120178223,
          -8.79712200164795,
          -5.359877109527588,
          -6.852428436279297,
          -8.866373062133789,
          -5.823805809020996,
          -3.637085437774658,
          -6.39412784576416,
          -6.520288467407227,
          -2.7133688926696777,
          -2.7916064262390137,
          -5.429800033569336,
          -3.1539034843444824,
          -0.03139090538024902,
          -1.8434873819351196,
          -2.9325904846191406,
          0.6431624889373779,
          2.0955545902252197,
          -0.36274147033691406,
          0.6736814975738525,
          4.382473945617676,
          3.9490082263946533,
          2.115827798843384,
          4.924091339111328,
          7.574562072753906,
          5.450034141540527,
          5.236490249633789,
          8.983756065368652,
          9.846080780029297,
          7.4340410232543945,
          9.027883529663086,
          12.497075080871582,
          11.433786392211914,
          11.810388565063477,
          9.123233795166016,
          10.049201011657715,
          9.763001441955566,
          6.421722412109375,
          5.076974868774414,
          6.114884376525879,
          4.697185516357422,
          1.3758213520050049,
          1.3774442672729492,
          2.1590240001678467,
          -0.6681941747665405,
          -3.1000654697418213,
          -2.1363840103149414,
          -2.0095536708831787,
          -5.490460395812988,
          -6.886113166809082,
          -5.519978046417236,
          -6.916864395141602,
          -10.410155296325684,
          -10.119670867919922,
          -8.823493003845215,
          -11.856242179870605,
          -14.207235336303711,
          -12.206793785095215,
          -12.617422103881836,
          -16.399261474609375,
          -16.333452224731445,
          -14.373250007629395,
          -16.846973419189453,
          -19.757736206054688,
          -18.103044509887695,
          -18.027568817138672,
          -14.952035903930664,
          -15.241796493530273,
          -15.311746597290039,
          -12.352510452270508,
          -10.327958106994629,
          -11.082667350769043,
          -9.981419563293457,
          -6.745522499084473,
          -5.889975547790527,
          -6.574459075927734,
          -4.455965995788574,
          -1.4987658262252808,
          -1.6653146743774414,
          -1.8722963333129883,
          0.9692525863647461,
          3.2420852184295654,
          2.457636594772339,
          3.3227269649505615,
          6.555549621582031,
          7.970297813415527,
          6.836875915527344,
          8.553506851196289,
          11.819278717041016,
          11.43394660949707,
          10.792967796325684,
          14.032180786132812,
          16.036373138427734,
          14.414703369140625,
          15.646642684936523
         ]
        }
       ],
       "layout": {
        "legend": {
         "tracegroupgap": 0
        },
        "margin": {
         "t": 60
        },
        "scene": {
         "domain": {
          "x": [
           0,
           1
          ],
          "y": [
           0,
           1
          ]
         },
         "xaxis": {
          "title": {
           "text": "x"
          }
         },
         "yaxis": {
          "title": {
           "text": "y"
          }
         },
         "zaxis": {
          "title": {
           "text": "z"
          }
         }
        },
        "template": {
         "data": {
          "bar": [
           {
            "error_x": {
             "color": "#2a3f5f"
            },
            "error_y": {
             "color": "#2a3f5f"
            },
            "marker": {
             "line": {
              "color": "#E5ECF6",
              "width": 0.5
             },
             "pattern": {
              "fillmode": "overlay",
              "size": 10,
              "solidity": 0.2
             }
            },
            "type": "bar"
           }
          ],
          "barpolar": [
           {
            "marker": {
             "line": {
              "color": "#E5ECF6",
              "width": 0.5
             },
             "pattern": {
              "fillmode": "overlay",
              "size": 10,
              "solidity": 0.2
             }
            },
            "type": "barpolar"
           }
          ],
          "carpet": [
           {
            "aaxis": {
             "endlinecolor": "#2a3f5f",
             "gridcolor": "white",
             "linecolor": "white",
             "minorgridcolor": "white",
             "startlinecolor": "#2a3f5f"
            },
            "baxis": {
             "endlinecolor": "#2a3f5f",
             "gridcolor": "white",
             "linecolor": "white",
             "minorgridcolor": "white",
             "startlinecolor": "#2a3f5f"
            },
            "type": "carpet"
           }
          ],
          "choropleth": [
           {
            "colorbar": {
             "outlinewidth": 0,
             "ticks": ""
            },
            "type": "choropleth"
           }
          ],
          "contour": [
           {
            "colorbar": {
             "outlinewidth": 0,
             "ticks": ""
            },
            "colorscale": [
             [
              0,
              "#0d0887"
             ],
             [
              0.1111111111111111,
              "#46039f"
             ],
             [
              0.2222222222222222,
              "#7201a8"
             ],
             [
              0.3333333333333333,
              "#9c179e"
             ],
             [
              0.4444444444444444,
              "#bd3786"
             ],
             [
              0.5555555555555556,
              "#d8576b"
             ],
             [
              0.6666666666666666,
              "#ed7953"
             ],
             [
              0.7777777777777778,
              "#fb9f3a"
             ],
             [
              0.8888888888888888,
              "#fdca26"
             ],
             [
              1,
              "#f0f921"
             ]
            ],
            "type": "contour"
           }
          ],
          "contourcarpet": [
           {
            "colorbar": {
             "outlinewidth": 0,
             "ticks": ""
            },
            "type": "contourcarpet"
           }
          ],
          "heatmap": [
           {
            "colorbar": {
             "outlinewidth": 0,
             "ticks": ""
            },
            "colorscale": [
             [
              0,
              "#0d0887"
             ],
             [
              0.1111111111111111,
              "#46039f"
             ],
             [
              0.2222222222222222,
              "#7201a8"
             ],
             [
              0.3333333333333333,
              "#9c179e"
             ],
             [
              0.4444444444444444,
              "#bd3786"
             ],
             [
              0.5555555555555556,
              "#d8576b"
             ],
             [
              0.6666666666666666,
              "#ed7953"
             ],
             [
              0.7777777777777778,
              "#fb9f3a"
             ],
             [
              0.8888888888888888,
              "#fdca26"
             ],
             [
              1,
              "#f0f921"
             ]
            ],
            "type": "heatmap"
           }
          ],
          "heatmapgl": [
           {
            "colorbar": {
             "outlinewidth": 0,
             "ticks": ""
            },
            "colorscale": [
             [
              0,
              "#0d0887"
             ],
             [
              0.1111111111111111,
              "#46039f"
             ],
             [
              0.2222222222222222,
              "#7201a8"
             ],
             [
              0.3333333333333333,
              "#9c179e"
             ],
             [
              0.4444444444444444,
              "#bd3786"
             ],
             [
              0.5555555555555556,
              "#d8576b"
             ],
             [
              0.6666666666666666,
              "#ed7953"
             ],
             [
              0.7777777777777778,
              "#fb9f3a"
             ],
             [
              0.8888888888888888,
              "#fdca26"
             ],
             [
              1,
              "#f0f921"
             ]
            ],
            "type": "heatmapgl"
           }
          ],
          "histogram": [
           {
            "marker": {
             "pattern": {
              "fillmode": "overlay",
              "size": 10,
              "solidity": 0.2
             }
            },
            "type": "histogram"
           }
          ],
          "histogram2d": [
           {
            "colorbar": {
             "outlinewidth": 0,
             "ticks": ""
            },
            "colorscale": [
             [
              0,
              "#0d0887"
             ],
             [
              0.1111111111111111,
              "#46039f"
             ],
             [
              0.2222222222222222,
              "#7201a8"
             ],
             [
              0.3333333333333333,
              "#9c179e"
             ],
             [
              0.4444444444444444,
              "#bd3786"
             ],
             [
              0.5555555555555556,
              "#d8576b"
             ],
             [
              0.6666666666666666,
              "#ed7953"
             ],
             [
              0.7777777777777778,
              "#fb9f3a"
             ],
             [
              0.8888888888888888,
              "#fdca26"
             ],
             [
              1,
              "#f0f921"
             ]
            ],
            "type": "histogram2d"
           }
          ],
          "histogram2dcontour": [
           {
            "colorbar": {
             "outlinewidth": 0,
             "ticks": ""
            },
            "colorscale": [
             [
              0,
              "#0d0887"
             ],
             [
              0.1111111111111111,
              "#46039f"
             ],
             [
              0.2222222222222222,
              "#7201a8"
             ],
             [
              0.3333333333333333,
              "#9c179e"
             ],
             [
              0.4444444444444444,
              "#bd3786"
             ],
             [
              0.5555555555555556,
              "#d8576b"
             ],
             [
              0.6666666666666666,
              "#ed7953"
             ],
             [
              0.7777777777777778,
              "#fb9f3a"
             ],
             [
              0.8888888888888888,
              "#fdca26"
             ],
             [
              1,
              "#f0f921"
             ]
            ],
            "type": "histogram2dcontour"
           }
          ],
          "mesh3d": [
           {
            "colorbar": {
             "outlinewidth": 0,
             "ticks": ""
            },
            "type": "mesh3d"
           }
          ],
          "parcoords": [
           {
            "line": {
             "colorbar": {
              "outlinewidth": 0,
              "ticks": ""
             }
            },
            "type": "parcoords"
           }
          ],
          "pie": [
           {
            "automargin": true,
            "type": "pie"
           }
          ],
          "scatter": [
           {
            "fillpattern": {
             "fillmode": "overlay",
             "size": 10,
             "solidity": 0.2
            },
            "type": "scatter"
           }
          ],
          "scatter3d": [
           {
            "line": {
             "colorbar": {
              "outlinewidth": 0,
              "ticks": ""
             }
            },
            "marker": {
             "colorbar": {
              "outlinewidth": 0,
              "ticks": ""
             }
            },
            "type": "scatter3d"
           }
          ],
          "scattercarpet": [
           {
            "marker": {
             "colorbar": {
              "outlinewidth": 0,
              "ticks": ""
             }
            },
            "type": "scattercarpet"
           }
          ],
          "scattergeo": [
           {
            "marker": {
             "colorbar": {
              "outlinewidth": 0,
              "ticks": ""
             }
            },
            "type": "scattergeo"
           }
          ],
          "scattergl": [
           {
            "marker": {
             "colorbar": {
              "outlinewidth": 0,
              "ticks": ""
             }
            },
            "type": "scattergl"
           }
          ],
          "scattermapbox": [
           {
            "marker": {
             "colorbar": {
              "outlinewidth": 0,
              "ticks": ""
             }
            },
            "type": "scattermapbox"
           }
          ],
          "scatterpolar": [
           {
            "marker": {
             "colorbar": {
              "outlinewidth": 0,
              "ticks": ""
             }
            },
            "type": "scatterpolar"
           }
          ],
          "scatterpolargl": [
           {
            "marker": {
             "colorbar": {
              "outlinewidth": 0,
              "ticks": ""
             }
            },
            "type": "scatterpolargl"
           }
          ],
          "scatterternary": [
           {
            "marker": {
             "colorbar": {
              "outlinewidth": 0,
              "ticks": ""
             }
            },
            "type": "scatterternary"
           }
          ],
          "surface": [
           {
            "colorbar": {
             "outlinewidth": 0,
             "ticks": ""
            },
            "colorscale": [
             [
              0,
              "#0d0887"
             ],
             [
              0.1111111111111111,
              "#46039f"
             ],
             [
              0.2222222222222222,
              "#7201a8"
             ],
             [
              0.3333333333333333,
              "#9c179e"
             ],
             [
              0.4444444444444444,
              "#bd3786"
             ],
             [
              0.5555555555555556,
              "#d8576b"
             ],
             [
              0.6666666666666666,
              "#ed7953"
             ],
             [
              0.7777777777777778,
              "#fb9f3a"
             ],
             [
              0.8888888888888888,
              "#fdca26"
             ],
             [
              1,
              "#f0f921"
             ]
            ],
            "type": "surface"
           }
          ],
          "table": [
           {
            "cells": {
             "fill": {
              "color": "#EBF0F8"
             },
             "line": {
              "color": "white"
             }
            },
            "header": {
             "fill": {
              "color": "#C8D4E3"
             },
             "line": {
              "color": "white"
             }
            },
            "type": "table"
           }
          ]
         },
         "layout": {
          "annotationdefaults": {
           "arrowcolor": "#2a3f5f",
           "arrowhead": 0,
           "arrowwidth": 1
          },
          "autotypenumbers": "strict",
          "coloraxis": {
           "colorbar": {
            "outlinewidth": 0,
            "ticks": ""
           }
          },
          "colorscale": {
           "diverging": [
            [
             0,
             "#8e0152"
            ],
            [
             0.1,
             "#c51b7d"
            ],
            [
             0.2,
             "#de77ae"
            ],
            [
             0.3,
             "#f1b6da"
            ],
            [
             0.4,
             "#fde0ef"
            ],
            [
             0.5,
             "#f7f7f7"
            ],
            [
             0.6,
             "#e6f5d0"
            ],
            [
             0.7,
             "#b8e186"
            ],
            [
             0.8,
             "#7fbc41"
            ],
            [
             0.9,
             "#4d9221"
            ],
            [
             1,
             "#276419"
            ]
           ],
           "sequential": [
            [
             0,
             "#0d0887"
            ],
            [
             0.1111111111111111,
             "#46039f"
            ],
            [
             0.2222222222222222,
             "#7201a8"
            ],
            [
             0.3333333333333333,
             "#9c179e"
            ],
            [
             0.4444444444444444,
             "#bd3786"
            ],
            [
             0.5555555555555556,
             "#d8576b"
            ],
            [
             0.6666666666666666,
             "#ed7953"
            ],
            [
             0.7777777777777778,
             "#fb9f3a"
            ],
            [
             0.8888888888888888,
             "#fdca26"
            ],
            [
             1,
             "#f0f921"
            ]
           ],
           "sequentialminus": [
            [
             0,
             "#0d0887"
            ],
            [
             0.1111111111111111,
             "#46039f"
            ],
            [
             0.2222222222222222,
             "#7201a8"
            ],
            [
             0.3333333333333333,
             "#9c179e"
            ],
            [
             0.4444444444444444,
             "#bd3786"
            ],
            [
             0.5555555555555556,
             "#d8576b"
            ],
            [
             0.6666666666666666,
             "#ed7953"
            ],
            [
             0.7777777777777778,
             "#fb9f3a"
            ],
            [
             0.8888888888888888,
             "#fdca26"
            ],
            [
             1,
             "#f0f921"
            ]
           ]
          },
          "colorway": [
           "#636efa",
           "#EF553B",
           "#00cc96",
           "#ab63fa",
           "#FFA15A",
           "#19d3f3",
           "#FF6692",
           "#B6E880",
           "#FF97FF",
           "#FECB52"
          ],
          "font": {
           "color": "#2a3f5f"
          },
          "geo": {
           "bgcolor": "white",
           "lakecolor": "white",
           "landcolor": "#E5ECF6",
           "showlakes": true,
           "showland": true,
           "subunitcolor": "white"
          },
          "hoverlabel": {
           "align": "left"
          },
          "hovermode": "closest",
          "mapbox": {
           "style": "light"
          },
          "paper_bgcolor": "white",
          "plot_bgcolor": "#E5ECF6",
          "polar": {
           "angularaxis": {
            "gridcolor": "white",
            "linecolor": "white",
            "ticks": ""
           },
           "bgcolor": "#E5ECF6",
           "radialaxis": {
            "gridcolor": "white",
            "linecolor": "white",
            "ticks": ""
           }
          },
          "scene": {
           "xaxis": {
            "backgroundcolor": "#E5ECF6",
            "gridcolor": "white",
            "gridwidth": 2,
            "linecolor": "white",
            "showbackground": true,
            "ticks": "",
            "zerolinecolor": "white"
           },
           "yaxis": {
            "backgroundcolor": "#E5ECF6",
            "gridcolor": "white",
            "gridwidth": 2,
            "linecolor": "white",
            "showbackground": true,
            "ticks": "",
            "zerolinecolor": "white"
           },
           "zaxis": {
            "backgroundcolor": "#E5ECF6",
            "gridcolor": "white",
            "gridwidth": 2,
            "linecolor": "white",
            "showbackground": true,
            "ticks": "",
            "zerolinecolor": "white"
           }
          },
          "shapedefaults": {
           "line": {
            "color": "#2a3f5f"
           }
          },
          "ternary": {
           "aaxis": {
            "gridcolor": "white",
            "linecolor": "white",
            "ticks": ""
           },
           "baxis": {
            "gridcolor": "white",
            "linecolor": "white",
            "ticks": ""
           },
           "bgcolor": "#E5ECF6",
           "caxis": {
            "gridcolor": "white",
            "linecolor": "white",
            "ticks": ""
           }
          },
          "title": {
           "x": 0.05
          },
          "xaxis": {
           "automargin": true,
           "gridcolor": "white",
           "linecolor": "white",
           "ticks": "",
           "title": {
            "standoff": 15
           },
           "zerolinecolor": "white",
           "zerolinewidth": 2
          },
          "yaxis": {
           "automargin": true,
           "gridcolor": "white",
           "linecolor": "white",
           "ticks": "",
           "title": {
            "standoff": 15
           },
           "zerolinecolor": "white",
           "zerolinewidth": 2
          }
         }
        }
       }
      }
     },
     "metadata": {},
     "output_type": "display_data"
    }
   ],
   "source": [
    "import plotly.express as px\n",
    "import plotly.graph_objects as go\n",
    "reconstructed = px.scatter_3d(x=pred_trans[:, :, 0].flatten().detach().numpy(), y=pred_trans[:, :, 1].flatten().detach().numpy(), z=pred_trans[:, :, 2].flatten().detach().numpy())\n",
    "reconstructed.update_traces(marker=dict(size=5, color='blue'))\n",
    "\n",
    "reconstructed.add_trace(\n",
    "    go.Scatter3d(\n",
    "        x=target_bb_coords[:, 1][:, 0].flatten().detach().numpy(),\n",
    "        y=target_bb_coords[:, 1][:, 1].flatten().detach().numpy(),\n",
    "        z=target_bb_coords[:, 1][:, 2].flatten().detach().numpy(),\n",
    "        mode='markers',\n",
    "        marker=dict(\n",
    "            size=5,\n",
    "            color='red',\n",
    "        )\n",
    "    )\n",
    ")"
   ]
  },
  {
   "cell_type": "code",
   "execution_count": null,
   "metadata": {},
   "outputs": [],
   "source": []
  }
 ],
 "metadata": {
  "kernelspec": {
   "display_name": "torch",
   "language": "python",
   "name": "python3"
  },
  "language_info": {
   "codemirror_mode": {
    "name": "ipython",
    "version": 3
   },
   "file_extension": ".py",
   "mimetype": "text/x-python",
   "name": "python",
   "nbconvert_exporter": "python",
   "pygments_lexer": "ipython3",
   "version": "3.10.14"
  }
 },
 "nbformat": 4,
 "nbformat_minor": 2
}
